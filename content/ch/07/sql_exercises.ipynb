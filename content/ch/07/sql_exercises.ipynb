{
 "cells": [
  {
   "cell_type": "code",
   "execution_count": null,
   "metadata": {
    "tags": [
     "remove-cell"
    ]
   },
   "outputs": [],
   "source": [
    "# Reference: https://jupyterbook.org/interactive/hiding.html\n",
    "# Use {hide, remove}-{input, output, cell} tags to hiding content\n",
    "\n",
    "import numpy as np\n",
    "import matplotlib.pyplot as plt\n",
    "import pandas as pd\n",
    "import seaborn as sns\n",
    "%matplotlib inline\n",
    "import ipywidgets as widgets\n",
    "from ipywidgets import interact, interactive, fixed, interact_manual\n",
    "from IPython.display import display\n",
    "\n",
    "sns.set()\n",
    "sns.set_context('talk')\n",
    "np.set_printoptions(threshold=20, precision=2, suppress=True)\n",
    "pd.set_option('display.max_rows', 7)\n",
    "pd.set_option('display.max_columns', 8)\n",
    "# Original had\n",
    "# pd.set_option('display.precision', 2)\n",
    "# I believe this is a bug-fix:\n",
    "pd.set_option('display.precision', 2)\n",
    "# This option stops scientific notation for pandas\n",
    "# pd.set_option('display.float_format', '{:.2f}'.format)\n",
    "\n",
    "def display_df(df, rows=pd.options.display.max_rows,\n",
    "               cols=pd.options.display.max_columns):\n",
    "    with pd.option_context('display.max_rows', rows,\n",
    "                           'display.max_columns', cols):\n",
    "        display(df)"
   ]
  },
  {
   "cell_type": "markdown",
   "metadata": {},
   "source": [
    "# Exercises"
   ]
  },
  {
   "cell_type": "markdown",
   "metadata": {},
   "source": [
    "- Write a SQL query on the `baby` relation, read the result into a `pandas`\n",
    "  dataframe, and create a plot of how popular your name was over time. If you\n",
    "  used that plot to make a guess at your age, what would you guess? Is that\n",
    "  close to your actual age? Think of a potential reason."
   ]
  },
  {
   "cell_type": "markdown",
   "metadata": {},
   "source": [
    "- When plotting male and female baby names over time, you might notice that\n",
    "  after 1950 there are generally more male babies. Is this trend reflected in\n",
    "  the U.S. census data? Go to the Census website\n",
    "  (https://data.census.gov/cedsci/) and check."
   ]
  },
  {
   "cell_type": "markdown",
   "metadata": {},
   "source": [
    "- Let's say you want to find the most popular male and female baby name each\n",
    "  year. You might write this query:\n",
    "\n",
    "  ```sql\n",
    "  SELECT Year, Sex, MAX(Count), MAX(Name)\n",
    "  FROM baby\n",
    "  GROUP BY Year, Sex\n",
    "  ```\n",
    "\n",
    "  But this code doesn't produce the right result. Why?\n",
    "\n",
    "  Now, write code to produce the most popular male and female name each year,\n",
    "  along with its count. *Hint:* The answer is a bit simpler than you might\n",
    "  expect because of a special SQLite rule (search for \"Bare columns in an\n",
    "  aggregate queries\"). "
   ]
  },
  {
   "cell_type": "markdown",
   "metadata": {},
   "source": [
    "- Come up with a realistic data example where a data scientist would prefer an\n",
    "  inner join to a left join, and an example where a data scientist would\n",
    "  prefer a left join to an inner join."
   ]
  },
  {
   "cell_type": "markdown",
   "metadata": {},
   "source": [
    "- In the section on Joins, the `nyt` table doesn't have any duplicate names.\n",
    "  But a name could feasibly belong to multiple categories---for instance,\n",
    "  `Elizabeth` is a name from the Bible and a name for royalty. Let's say we\n",
    "  have a relation called `multi_cat` that can list a name multiple times---once\n",
    "  for each category it belongs to:"
   ]
  },
  {
   "cell_type": "code",
   "execution_count": null,
   "metadata": {},
   "outputs": [],
   "source": [
    "query = ''' \n",
    "SELECT *\n",
    "FROM multi_cat\n",
    "'''\n",
    "\n",
    "pd.read_sql(query, db)"
   ]
  },
  {
   "cell_type": "markdown",
   "metadata": {},
   "source": [
    "What happens when we join `baby` with this table? In general, what happens when\n",
    "there are *multiple rows* that match in both left and right tables?"
   ]
  },
  {
   "cell_type": "markdown",
   "metadata": {},
   "source": [
    "- In a *self-join*, we take a table and join it with itself. For example, the\n",
    "  `friends` relation contains pairs of people who are friends with each other."
   ]
  },
  {
   "cell_type": "code",
   "execution_count": null,
   "metadata": {},
   "outputs": [],
   "source": [
    "query = ''' \n",
    "SELECT *\n",
    "FROM friends\n",
    "'''\n",
    "\n",
    "pd.read_sql(query, db)"
   ]
  },
  {
   "cell_type": "markdown",
   "metadata": {},
   "source": [
    "Why might a data scientist find the following self-join useful?"
   ]
  },
  {
   "cell_type": "code",
   "execution_count": null,
   "metadata": {},
   "outputs": [],
   "source": [
    "query = ''' \n",
    "SELECT *\n",
    "FROM friends AS f1\n",
    "  INNER JOIN friends AS f2\n",
    "  ON f1.other = f2.self\n",
    "'''\n",
    "\n",
    "pd.read_sql(query, db)"
   ]
  },
  {
   "cell_type": "markdown",
   "metadata": {},
   "source": [
    "- The self-join query in the previous exercise uses the `AS` keyword to rename\n",
    "  each relation. Why do we need to rename the relations in that query? In\n",
    "  general, under what circumstances do we need to rename relations in the\n",
    "  `FROM` clause? "
   ]
  },
  {
   "cell_type": "markdown",
   "metadata": {},
   "source": [
    "- Have names become longer on average over time? Write a SQL query, read the\n",
    "  result into a `pandas` dataframe, then produce a plot to answer this\n",
    "  question. "
   ]
  },
  {
   "cell_type": "markdown",
   "metadata": {},
   "source": [
    "- What does the following SQL query compute? What does the `stat` column\n",
    "  contain?"
   ]
  },
  {
   "cell_type": "code",
   "execution_count": null,
   "metadata": {},
   "outputs": [],
   "source": [
    "query = ''' \n",
    "WITH yearly_avgs AS (\n",
    "  SELECT Name, AVG(Count) AS avg\n",
    "  FROM baby\n",
    "  GROUP BY Name\n",
    "),\n",
    "sq_diffs AS (\n",
    "  SELECT b.Name, POWER(Count - avg, 2) AS sq_diff\n",
    "  FROM baby AS b JOIN yearly_avgs AS y\n",
    "    ON b.Name = y.Name\n",
    ")\n",
    "SELECT Name, POWER(AVG(sq_diff), 0.5) AS stat\n",
    "FROM sq_diffs\n",
    "GROUP BY Name\n",
    "ORDER BY stat DESC\n",
    "LIMIT 10\n",
    "'''\n",
    "\n",
    "pd.read_sql(query, db)"
   ]
  },
  {
   "cell_type": "markdown",
   "metadata": {},
   "source": [
    "- In this chapter we found that you could make reasonable guesses at a person's\n",
    "  age just by knowing their name. For instance, the name \"Luna\" has sharply\n",
    "  risen in popularity after 2000, so you could guess that a person named \"Luna\"\n",
    "  was born around after 2000. Can you make reasonable guesses at a person's age\n",
    "  just from the *first letter* of their name?\n",
    "  \n",
    "  Answer this question by writing a SQL query, reading the result into a\n",
    "  `pandas` dataframe, then producing plots to see whether this is possible.\n",
    "  Then, see which first letters provide the most information about a person's\n",
    "  age. "
   ]
  }
 ],
 "metadata": {
  "celltoolbar": "Tags",
  "jupytext": {
   "notebook_metadata_filter": "all,-language_info",
   "split_at_heading": true
  },
  "kernelspec": {
   "display_name": "Python 3 (ipykernel)",
   "language": "python",
   "name": "python3"
  },
  "language_info": {
   "codemirror_mode": {
    "name": "ipython",
    "version": 3
   },
   "file_extension": ".py",
   "mimetype": "text/x-python",
   "name": "python",
   "nbconvert_exporter": "python",
   "pygments_lexer": "ipython3",
   "version": "3.11.8"
  }
 },
 "nbformat": 4,
 "nbformat_minor": 2
}
